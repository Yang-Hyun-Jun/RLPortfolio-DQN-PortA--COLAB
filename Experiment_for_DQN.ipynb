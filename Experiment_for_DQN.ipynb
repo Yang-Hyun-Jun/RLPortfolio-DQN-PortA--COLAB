{
  "nbformat": 4,
  "nbformat_minor": 0,
  "metadata": {
    "colab": {
      "name": "Experiment for DQN.ipynb",
      "provenance": []
    },
    "kernelspec": {
      "name": "python3",
      "display_name": "Python 3"
    },
    "language_info": {
      "name": "python"
    },
    "accelerator": "GPU"
  },
  "cells": [
    {
      "cell_type": "code",
      "execution_count": 1,
      "metadata": {
        "colab": {
          "base_uri": "https://localhost:8080/"
        },
        "id": "hsWd20BKAT0T",
        "outputId": "21333fcc-64b9-4a70-9344-2359b9eaf1fb"
      },
      "outputs": [
        {
          "output_type": "stream",
          "name": "stdout",
          "text": [
            "Cloning into 'RLPortfolio-DQN-COLAB'...\n",
            "remote: Enumerating objects: 42, done.\u001b[K\n",
            "remote: Counting objects: 100% (42/42), done.\u001b[K\n",
            "remote: Compressing objects: 100% (34/34), done.\u001b[K\n",
            "remote: Total 42 (delta 11), reused 38 (delta 7), pack-reused 0\u001b[K\n",
            "Unpacking objects: 100% (42/42), done.\n"
          ]
        }
      ],
      "source": [
        "!git clone https://github.com/Yang-Hyun-Jun/RLPortfolio-DQN-COLAB.git"
      ]
    },
    {
      "cell_type": "code",
      "source": [
        "!pip install mplfinance"
      ],
      "metadata": {
        "colab": {
          "base_uri": "https://localhost:8080/"
        },
        "id": "TqBbg8LCAgNV",
        "outputId": "ec042c47-b305-4115-af8b-85c822243f76"
      },
      "execution_count": 2,
      "outputs": [
        {
          "output_type": "stream",
          "name": "stdout",
          "text": [
            "Looking in indexes: https://pypi.org/simple, https://us-python.pkg.dev/colab-wheels/public/simple/\n",
            "Collecting mplfinance\n",
            "  Downloading mplfinance-0.12.9b0-py3-none-any.whl (70 kB)\n",
            "\u001b[K     |████████████████████████████████| 70 kB 5.6 MB/s \n",
            "\u001b[?25hRequirement already satisfied: matplotlib in /usr/local/lib/python3.7/dist-packages (from mplfinance) (3.2.2)\n",
            "Requirement already satisfied: pandas in /usr/local/lib/python3.7/dist-packages (from mplfinance) (1.3.5)\n",
            "Requirement already satisfied: python-dateutil>=2.1 in /usr/local/lib/python3.7/dist-packages (from matplotlib->mplfinance) (2.8.2)\n",
            "Requirement already satisfied: numpy>=1.11 in /usr/local/lib/python3.7/dist-packages (from matplotlib->mplfinance) (1.21.6)\n",
            "Requirement already satisfied: kiwisolver>=1.0.1 in /usr/local/lib/python3.7/dist-packages (from matplotlib->mplfinance) (1.4.2)\n",
            "Requirement already satisfied: pyparsing!=2.0.4,!=2.1.2,!=2.1.6,>=2.0.1 in /usr/local/lib/python3.7/dist-packages (from matplotlib->mplfinance) (3.0.9)\n",
            "Requirement already satisfied: cycler>=0.10 in /usr/local/lib/python3.7/dist-packages (from matplotlib->mplfinance) (0.11.0)\n",
            "Requirement already satisfied: typing-extensions in /usr/local/lib/python3.7/dist-packages (from kiwisolver>=1.0.1->matplotlib->mplfinance) (4.2.0)\n",
            "Requirement already satisfied: six>=1.5 in /usr/local/lib/python3.7/dist-packages (from python-dateutil>=2.1->matplotlib->mplfinance) (1.15.0)\n",
            "Requirement already satisfied: pytz>=2017.3 in /usr/local/lib/python3.7/dist-packages (from pandas->mplfinance) (2022.1)\n",
            "Installing collected packages: mplfinance\n",
            "Successfully installed mplfinance-0.12.9b0\n"
          ]
        }
      ]
    },
    {
      "cell_type": "code",
      "source": [
        "import sys\n",
        "import os\n",
        "import torch"
      ],
      "metadata": {
        "id": "5tyVDD4AAhVu"
      },
      "execution_count": 3,
      "outputs": []
    },
    {
      "cell_type": "code",
      "source": [
        "sys.path.insert(0, \"/content/RLPortfolio-DQN-COLAB\")"
      ],
      "metadata": {
        "id": "wJ6H8ikkAiaL"
      },
      "execution_count": 4,
      "outputs": []
    },
    {
      "cell_type": "code",
      "source": [
        "os.makedirs(\"/content/Metrics\", exist_ok=True)\n",
        "os.makedirs(\"/content/Models\", exist_ok=True)"
      ],
      "metadata": {
        "id": "ycbsWBCsAl03"
      },
      "execution_count": 5,
      "outputs": []
    },
    {
      "cell_type": "code",
      "source": [
        "import DataManager\n",
        "import utils\n",
        "\n",
        "from Learner import DQNLearner\n",
        "from Test import DQNTester"
      ],
      "metadata": {
        "id": "o04URenfAnWW"
      },
      "execution_count": 6,
      "outputs": []
    },
    {
      "cell_type": "code",
      "source": [
        "# Data Load\n",
        "\n",
        "stock_list = [\"AAPL\", \"JD\", \"WBA\"]\n",
        "path_list = []\n",
        "\n",
        "for stock_name in stock_list:\n",
        "  path = utils.SAVE_DIR + \"/RLPortfolio-DQN-COLAB/Data/\" + stock_name\n",
        "  path_list.append(path)\n",
        "\n",
        "train_data, test_data = DataManager.get_data_tensor(path_list,\n",
        "                                                    train_date_start=\"2014-06-02\",\n",
        "                                                    train_date_end=\"2019-12-31\",\n",
        "                                                    test_date_start=\"2020-01-02\",\n",
        "                                                    test_date_end=\"2021-12-31\")"
      ],
      "metadata": {
        "colab": {
          "base_uri": "https://localhost:8080/"
        },
        "id": "M22jYzgCAoa6",
        "outputId": "a1de5f85-7c94-4a3d-f766-0d0a65088681"
      },
      "execution_count": 7,
      "outputs": [
        {
          "output_type": "stream",
          "name": "stdout",
          "text": [
            "-------------------------------------\n",
            "학습 데이터 시작 거래일:2014-06-02\n",
            "학습 데이터 마지막 거래일:2019-12-31\n",
            "테스트 데이터 시작 거래일:2020-01-02\n",
            "테스트 데이터 마지막 거래일:2021-12-31\n",
            "-------------------------------------\n"
          ]
        }
      ]
    },
    {
      "cell_type": "code",
      "source": [
        "# Hyperparameters\n",
        "\n",
        "K = len(stock_list)\n",
        "lr = 1e-3\n",
        "tau = 0.005\n",
        "discount_factor = 0.9\n",
        "num_episode = 1\n",
        "balance = 15000000\n",
        "batch_size = 30\n",
        "memory_size = 100\n",
        "min_trading_price = 0\n",
        "max_trading_price = 500000\n",
        "\n",
        "parameters1 = {\"lr\":lr, \n",
        "               \"tau\":tau,\n",
        "               \"K\":K,\n",
        "               \"chart_data\":train_data,\n",
        "               \"discount_factor\":discount_factor,\n",
        "               \"min_trading_price\":min_trading_price,\n",
        "               \"max_trading_price\":max_trading_price,\n",
        "               \"batch_size\":batch_size,\n",
        "               \"memory_size\":memory_size}\n",
        "\n",
        "parameters2 = {\"K\":K,\n",
        "               \"balance\":balance,\n",
        "               \"min_trading_price\":min_trading_price,\n",
        "               \"max_trading_price\":max_trading_price,\n",
        "               \"test_data\":test_data}"
      ],
      "metadata": {
        "id": "P0m0P9BeA3d3"
      },
      "execution_count": 8,
      "outputs": []
    },
    {
      "cell_type": "code",
      "source": [
        "learner = DQNLearner(**parameters1)\n",
        "learner.run(num_episode=num_episode, balance=balance)\n",
        "learner.save_model(path=utils.SAVE_DIR + \"/Models\" + \"/DQNPortfolio.pth\")"
      ],
      "metadata": {
        "id": "YXzRFZSGBA7p"
      },
      "execution_count": null,
      "outputs": []
    },
    {
      "cell_type": "code",
      "source": [
        "tester = DQNTester(**parameters2)\n",
        "tester.run()"
      ],
      "metadata": {
        "id": "63gFm0PABJFJ"
      },
      "execution_count": null,
      "outputs": []
    }
  ]
}